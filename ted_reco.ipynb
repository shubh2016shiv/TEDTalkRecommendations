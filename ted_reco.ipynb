{
 "cells": [
  {
   "cell_type": "code",
   "execution_count": 1,
   "source": [
    "# All the imports\r\n",
    "import numpy as np\r\n",
    "import pandas as pd\r\n",
    "import ast \r\n",
    "from mlxtend.preprocessing import TransactionEncoder\r\n",
    "from sklearn.metrics.pairwise import cosine_similarity"
   ],
   "outputs": [],
   "metadata": {}
  },
  {
   "cell_type": "code",
   "execution_count": 2,
   "source": [
    "# Path for all the files\r\n",
    "DATA_PATH = \"./DATA/\""
   ],
   "outputs": [],
   "metadata": {}
  },
  {
   "cell_type": "code",
   "execution_count": 3,
   "source": [
    "# Read TED Talks meta data for english language\r\n",
    "ted_df = pd.read_csv(DATA_PATH + \"ted_talks_en.csv\")"
   ],
   "outputs": [],
   "metadata": {}
  },
  {
   "cell_type": "code",
   "execution_count": 4,
   "source": [
    "ted_df.head()"
   ],
   "outputs": [
    {
     "output_type": "execute_result",
     "data": {
      "text/html": [
       "<div>\n",
       "<style scoped>\n",
       "    .dataframe tbody tr th:only-of-type {\n",
       "        vertical-align: middle;\n",
       "    }\n",
       "\n",
       "    .dataframe tbody tr th {\n",
       "        vertical-align: top;\n",
       "    }\n",
       "\n",
       "    .dataframe thead th {\n",
       "        text-align: right;\n",
       "    }\n",
       "</style>\n",
       "<table border=\"1\" class=\"dataframe\">\n",
       "  <thead>\n",
       "    <tr style=\"text-align: right;\">\n",
       "      <th></th>\n",
       "      <th>talk_id</th>\n",
       "      <th>title</th>\n",
       "      <th>speaker_1</th>\n",
       "      <th>all_speakers</th>\n",
       "      <th>occupations</th>\n",
       "      <th>about_speakers</th>\n",
       "      <th>views</th>\n",
       "      <th>recorded_date</th>\n",
       "      <th>published_date</th>\n",
       "      <th>event</th>\n",
       "      <th>native_lang</th>\n",
       "      <th>available_lang</th>\n",
       "      <th>comments</th>\n",
       "      <th>duration</th>\n",
       "      <th>topics</th>\n",
       "      <th>related_talks</th>\n",
       "      <th>url</th>\n",
       "      <th>description</th>\n",
       "      <th>transcript</th>\n",
       "    </tr>\n",
       "  </thead>\n",
       "  <tbody>\n",
       "    <tr>\n",
       "      <th>0</th>\n",
       "      <td>1</td>\n",
       "      <td>Averting the climate crisis</td>\n",
       "      <td>Al Gore</td>\n",
       "      <td>{0: 'Al Gore'}</td>\n",
       "      <td>{0: ['climate advocate']}</td>\n",
       "      <td>{0: 'Nobel Laureate Al Gore focused the world’...</td>\n",
       "      <td>3523392</td>\n",
       "      <td>2006-02-25</td>\n",
       "      <td>2006-06-27</td>\n",
       "      <td>TED2006</td>\n",
       "      <td>en</td>\n",
       "      <td>['ar', 'bg', 'cs', 'de', 'el', 'en', 'es', 'fa...</td>\n",
       "      <td>272.0</td>\n",
       "      <td>977</td>\n",
       "      <td>['alternative energy', 'cars', 'climate change...</td>\n",
       "      <td>{243: 'New thinking on the climate crisis', 54...</td>\n",
       "      <td>https://www.ted.com/talks/al_gore_averting_the...</td>\n",
       "      <td>With the same humor and humanity he exuded in ...</td>\n",
       "      <td>Thank you so much, Chris. And it's truly a gre...</td>\n",
       "    </tr>\n",
       "    <tr>\n",
       "      <th>1</th>\n",
       "      <td>92</td>\n",
       "      <td>The best stats you've ever seen</td>\n",
       "      <td>Hans Rosling</td>\n",
       "      <td>{0: 'Hans Rosling'}</td>\n",
       "      <td>{0: ['global health expert; data visionary']}</td>\n",
       "      <td>{0: 'In Hans Rosling’s hands, data sings. Glob...</td>\n",
       "      <td>14501685</td>\n",
       "      <td>2006-02-22</td>\n",
       "      <td>2006-06-27</td>\n",
       "      <td>TED2006</td>\n",
       "      <td>en</td>\n",
       "      <td>['ar', 'az', 'bg', 'bn', 'bs', 'cs', 'da', 'de...</td>\n",
       "      <td>628.0</td>\n",
       "      <td>1190</td>\n",
       "      <td>['Africa', 'Asia', 'Google', 'demo', 'economic...</td>\n",
       "      <td>{2056: \"Own your body's data\", 2296: 'A visual...</td>\n",
       "      <td>https://www.ted.com/talks/hans_rosling_the_bes...</td>\n",
       "      <td>You've never seen data presented like this. Wi...</td>\n",
       "      <td>About 10 years ago, I took on the task to teac...</td>\n",
       "    </tr>\n",
       "    <tr>\n",
       "      <th>2</th>\n",
       "      <td>7</td>\n",
       "      <td>Simplicity sells</td>\n",
       "      <td>David Pogue</td>\n",
       "      <td>{0: 'David Pogue'}</td>\n",
       "      <td>{0: ['technology columnist']}</td>\n",
       "      <td>{0: 'David Pogue is the personal technology co...</td>\n",
       "      <td>1920832</td>\n",
       "      <td>2006-02-24</td>\n",
       "      <td>2006-06-27</td>\n",
       "      <td>TED2006</td>\n",
       "      <td>en</td>\n",
       "      <td>['ar', 'bg', 'de', 'el', 'en', 'es', 'fa', 'fr...</td>\n",
       "      <td>124.0</td>\n",
       "      <td>1286</td>\n",
       "      <td>['computers', 'entertainment', 'interface desi...</td>\n",
       "      <td>{1725: '10 top time-saving tech tips', 2274: '...</td>\n",
       "      <td>https://www.ted.com/talks/david_pogue_simplici...</td>\n",
       "      <td>New York Times columnist David Pogue takes aim...</td>\n",
       "      <td>(Music: \"The Sound of Silence,\" Simon &amp; Garfun...</td>\n",
       "    </tr>\n",
       "    <tr>\n",
       "      <th>3</th>\n",
       "      <td>53</td>\n",
       "      <td>Greening the ghetto</td>\n",
       "      <td>Majora Carter</td>\n",
       "      <td>{0: 'Majora Carter'}</td>\n",
       "      <td>{0: ['activist for environmental justice']}</td>\n",
       "      <td>{0: 'Majora Carter redefined the field of envi...</td>\n",
       "      <td>2664069</td>\n",
       "      <td>2006-02-26</td>\n",
       "      <td>2006-06-27</td>\n",
       "      <td>TED2006</td>\n",
       "      <td>en</td>\n",
       "      <td>['ar', 'bg', 'bn', 'ca', 'cs', 'de', 'en', 'es...</td>\n",
       "      <td>219.0</td>\n",
       "      <td>1116</td>\n",
       "      <td>['MacArthur grant', 'activism', 'business', 'c...</td>\n",
       "      <td>{1041: '3 stories of local eco-entrepreneurshi...</td>\n",
       "      <td>https://www.ted.com/talks/majora_carter_greeni...</td>\n",
       "      <td>In an emotionally charged talk, MacArthur-winn...</td>\n",
       "      <td>If you're here today — and I'm very happy that...</td>\n",
       "    </tr>\n",
       "    <tr>\n",
       "      <th>4</th>\n",
       "      <td>66</td>\n",
       "      <td>Do schools kill creativity?</td>\n",
       "      <td>Sir Ken Robinson</td>\n",
       "      <td>{0: 'Sir Ken Robinson'}</td>\n",
       "      <td>{0: ['author', 'educator']}</td>\n",
       "      <td>{0: \"Creativity expert Sir Ken Robinson challe...</td>\n",
       "      <td>65051954</td>\n",
       "      <td>2006-02-25</td>\n",
       "      <td>2006-06-27</td>\n",
       "      <td>TED2006</td>\n",
       "      <td>en</td>\n",
       "      <td>['af', 'ar', 'az', 'be', 'bg', 'bn', 'ca', 'cs...</td>\n",
       "      <td>4931.0</td>\n",
       "      <td>1164</td>\n",
       "      <td>['children', 'creativity', 'culture', 'dance',...</td>\n",
       "      <td>{865: 'Bring on the learning revolution!', 173...</td>\n",
       "      <td>https://www.ted.com/talks/sir_ken_robinson_do_...</td>\n",
       "      <td>Sir Ken Robinson makes an entertaining and pro...</td>\n",
       "      <td>Good morning. How are you? (Audience) Good. It...</td>\n",
       "    </tr>\n",
       "  </tbody>\n",
       "</table>\n",
       "</div>"
      ],
      "text/plain": [
       "   talk_id                            title         speaker_1  \\\n",
       "0        1      Averting the climate crisis           Al Gore   \n",
       "1       92  The best stats you've ever seen      Hans Rosling   \n",
       "2        7                 Simplicity sells       David Pogue   \n",
       "3       53              Greening the ghetto     Majora Carter   \n",
       "4       66      Do schools kill creativity?  Sir Ken Robinson   \n",
       "\n",
       "              all_speakers                                    occupations  \\\n",
       "0           {0: 'Al Gore'}                      {0: ['climate advocate']}   \n",
       "1      {0: 'Hans Rosling'}  {0: ['global health expert; data visionary']}   \n",
       "2       {0: 'David Pogue'}                  {0: ['technology columnist']}   \n",
       "3     {0: 'Majora Carter'}    {0: ['activist for environmental justice']}   \n",
       "4  {0: 'Sir Ken Robinson'}                    {0: ['author', 'educator']}   \n",
       "\n",
       "                                      about_speakers     views recorded_date  \\\n",
       "0  {0: 'Nobel Laureate Al Gore focused the world’...   3523392    2006-02-25   \n",
       "1  {0: 'In Hans Rosling’s hands, data sings. Glob...  14501685    2006-02-22   \n",
       "2  {0: 'David Pogue is the personal technology co...   1920832    2006-02-24   \n",
       "3  {0: 'Majora Carter redefined the field of envi...   2664069    2006-02-26   \n",
       "4  {0: \"Creativity expert Sir Ken Robinson challe...  65051954    2006-02-25   \n",
       "\n",
       "  published_date    event native_lang  \\\n",
       "0     2006-06-27  TED2006          en   \n",
       "1     2006-06-27  TED2006          en   \n",
       "2     2006-06-27  TED2006          en   \n",
       "3     2006-06-27  TED2006          en   \n",
       "4     2006-06-27  TED2006          en   \n",
       "\n",
       "                                      available_lang  comments  duration  \\\n",
       "0  ['ar', 'bg', 'cs', 'de', 'el', 'en', 'es', 'fa...     272.0       977   \n",
       "1  ['ar', 'az', 'bg', 'bn', 'bs', 'cs', 'da', 'de...     628.0      1190   \n",
       "2  ['ar', 'bg', 'de', 'el', 'en', 'es', 'fa', 'fr...     124.0      1286   \n",
       "3  ['ar', 'bg', 'bn', 'ca', 'cs', 'de', 'en', 'es...     219.0      1116   \n",
       "4  ['af', 'ar', 'az', 'be', 'bg', 'bn', 'ca', 'cs...    4931.0      1164   \n",
       "\n",
       "                                              topics  \\\n",
       "0  ['alternative energy', 'cars', 'climate change...   \n",
       "1  ['Africa', 'Asia', 'Google', 'demo', 'economic...   \n",
       "2  ['computers', 'entertainment', 'interface desi...   \n",
       "3  ['MacArthur grant', 'activism', 'business', 'c...   \n",
       "4  ['children', 'creativity', 'culture', 'dance',...   \n",
       "\n",
       "                                       related_talks  \\\n",
       "0  {243: 'New thinking on the climate crisis', 54...   \n",
       "1  {2056: \"Own your body's data\", 2296: 'A visual...   \n",
       "2  {1725: '10 top time-saving tech tips', 2274: '...   \n",
       "3  {1041: '3 stories of local eco-entrepreneurshi...   \n",
       "4  {865: 'Bring on the learning revolution!', 173...   \n",
       "\n",
       "                                                 url  \\\n",
       "0  https://www.ted.com/talks/al_gore_averting_the...   \n",
       "1  https://www.ted.com/talks/hans_rosling_the_bes...   \n",
       "2  https://www.ted.com/talks/david_pogue_simplici...   \n",
       "3  https://www.ted.com/talks/majora_carter_greeni...   \n",
       "4  https://www.ted.com/talks/sir_ken_robinson_do_...   \n",
       "\n",
       "                                         description  \\\n",
       "0  With the same humor and humanity he exuded in ...   \n",
       "1  You've never seen data presented like this. Wi...   \n",
       "2  New York Times columnist David Pogue takes aim...   \n",
       "3  In an emotionally charged talk, MacArthur-winn...   \n",
       "4  Sir Ken Robinson makes an entertaining and pro...   \n",
       "\n",
       "                                          transcript  \n",
       "0  Thank you so much, Chris. And it's truly a gre...  \n",
       "1  About 10 years ago, I took on the task to teac...  \n",
       "2  (Music: \"The Sound of Silence,\" Simon & Garfun...  \n",
       "3  If you're here today — and I'm very happy that...  \n",
       "4  Good morning. How are you? (Audience) Good. It...  "
      ]
     },
     "metadata": {},
     "execution_count": 4
    }
   ],
   "metadata": {}
  },
  {
   "cell_type": "code",
   "execution_count": 5,
   "source": [
    "ted_df.columns"
   ],
   "outputs": [
    {
     "output_type": "execute_result",
     "data": {
      "text/plain": [
       "Index(['talk_id', 'title', 'speaker_1', 'all_speakers', 'occupations',\n",
       "       'about_speakers', 'views', 'recorded_date', 'published_date', 'event',\n",
       "       'native_lang', 'available_lang', 'comments', 'duration', 'topics',\n",
       "       'related_talks', 'url', 'description', 'transcript'],\n",
       "      dtype='object')"
      ]
     },
     "metadata": {},
     "execution_count": 5
    }
   ],
   "metadata": {}
  },
  {
   "cell_type": "code",
   "execution_count": 6,
   "source": [
    "# Get the relavant columns\r\n",
    "ted_df = ted_df[['talk_id','title','all_speakers','occupations','about_speakers','topics','description', 'transcript']]"
   ],
   "outputs": [],
   "metadata": {}
  },
  {
   "cell_type": "code",
   "execution_count": 7,
   "source": [
    "ted_df.head()"
   ],
   "outputs": [
    {
     "output_type": "execute_result",
     "data": {
      "text/html": [
       "<div>\n",
       "<style scoped>\n",
       "    .dataframe tbody tr th:only-of-type {\n",
       "        vertical-align: middle;\n",
       "    }\n",
       "\n",
       "    .dataframe tbody tr th {\n",
       "        vertical-align: top;\n",
       "    }\n",
       "\n",
       "    .dataframe thead th {\n",
       "        text-align: right;\n",
       "    }\n",
       "</style>\n",
       "<table border=\"1\" class=\"dataframe\">\n",
       "  <thead>\n",
       "    <tr style=\"text-align: right;\">\n",
       "      <th></th>\n",
       "      <th>talk_id</th>\n",
       "      <th>title</th>\n",
       "      <th>all_speakers</th>\n",
       "      <th>occupations</th>\n",
       "      <th>about_speakers</th>\n",
       "      <th>topics</th>\n",
       "      <th>description</th>\n",
       "      <th>transcript</th>\n",
       "    </tr>\n",
       "  </thead>\n",
       "  <tbody>\n",
       "    <tr>\n",
       "      <th>0</th>\n",
       "      <td>1</td>\n",
       "      <td>Averting the climate crisis</td>\n",
       "      <td>{0: 'Al Gore'}</td>\n",
       "      <td>{0: ['climate advocate']}</td>\n",
       "      <td>{0: 'Nobel Laureate Al Gore focused the world’...</td>\n",
       "      <td>['alternative energy', 'cars', 'climate change...</td>\n",
       "      <td>With the same humor and humanity he exuded in ...</td>\n",
       "      <td>Thank you so much, Chris. And it's truly a gre...</td>\n",
       "    </tr>\n",
       "    <tr>\n",
       "      <th>1</th>\n",
       "      <td>92</td>\n",
       "      <td>The best stats you've ever seen</td>\n",
       "      <td>{0: 'Hans Rosling'}</td>\n",
       "      <td>{0: ['global health expert; data visionary']}</td>\n",
       "      <td>{0: 'In Hans Rosling’s hands, data sings. Glob...</td>\n",
       "      <td>['Africa', 'Asia', 'Google', 'demo', 'economic...</td>\n",
       "      <td>You've never seen data presented like this. Wi...</td>\n",
       "      <td>About 10 years ago, I took on the task to teac...</td>\n",
       "    </tr>\n",
       "    <tr>\n",
       "      <th>2</th>\n",
       "      <td>7</td>\n",
       "      <td>Simplicity sells</td>\n",
       "      <td>{0: 'David Pogue'}</td>\n",
       "      <td>{0: ['technology columnist']}</td>\n",
       "      <td>{0: 'David Pogue is the personal technology co...</td>\n",
       "      <td>['computers', 'entertainment', 'interface desi...</td>\n",
       "      <td>New York Times columnist David Pogue takes aim...</td>\n",
       "      <td>(Music: \"The Sound of Silence,\" Simon &amp; Garfun...</td>\n",
       "    </tr>\n",
       "    <tr>\n",
       "      <th>3</th>\n",
       "      <td>53</td>\n",
       "      <td>Greening the ghetto</td>\n",
       "      <td>{0: 'Majora Carter'}</td>\n",
       "      <td>{0: ['activist for environmental justice']}</td>\n",
       "      <td>{0: 'Majora Carter redefined the field of envi...</td>\n",
       "      <td>['MacArthur grant', 'activism', 'business', 'c...</td>\n",
       "      <td>In an emotionally charged talk, MacArthur-winn...</td>\n",
       "      <td>If you're here today — and I'm very happy that...</td>\n",
       "    </tr>\n",
       "    <tr>\n",
       "      <th>4</th>\n",
       "      <td>66</td>\n",
       "      <td>Do schools kill creativity?</td>\n",
       "      <td>{0: 'Sir Ken Robinson'}</td>\n",
       "      <td>{0: ['author', 'educator']}</td>\n",
       "      <td>{0: \"Creativity expert Sir Ken Robinson challe...</td>\n",
       "      <td>['children', 'creativity', 'culture', 'dance',...</td>\n",
       "      <td>Sir Ken Robinson makes an entertaining and pro...</td>\n",
       "      <td>Good morning. How are you? (Audience) Good. It...</td>\n",
       "    </tr>\n",
       "  </tbody>\n",
       "</table>\n",
       "</div>"
      ],
      "text/plain": [
       "   talk_id                            title             all_speakers  \\\n",
       "0        1      Averting the climate crisis           {0: 'Al Gore'}   \n",
       "1       92  The best stats you've ever seen      {0: 'Hans Rosling'}   \n",
       "2        7                 Simplicity sells       {0: 'David Pogue'}   \n",
       "3       53              Greening the ghetto     {0: 'Majora Carter'}   \n",
       "4       66      Do schools kill creativity?  {0: 'Sir Ken Robinson'}   \n",
       "\n",
       "                                     occupations  \\\n",
       "0                      {0: ['climate advocate']}   \n",
       "1  {0: ['global health expert; data visionary']}   \n",
       "2                  {0: ['technology columnist']}   \n",
       "3    {0: ['activist for environmental justice']}   \n",
       "4                    {0: ['author', 'educator']}   \n",
       "\n",
       "                                      about_speakers  \\\n",
       "0  {0: 'Nobel Laureate Al Gore focused the world’...   \n",
       "1  {0: 'In Hans Rosling’s hands, data sings. Glob...   \n",
       "2  {0: 'David Pogue is the personal technology co...   \n",
       "3  {0: 'Majora Carter redefined the field of envi...   \n",
       "4  {0: \"Creativity expert Sir Ken Robinson challe...   \n",
       "\n",
       "                                              topics  \\\n",
       "0  ['alternative energy', 'cars', 'climate change...   \n",
       "1  ['Africa', 'Asia', 'Google', 'demo', 'economic...   \n",
       "2  ['computers', 'entertainment', 'interface desi...   \n",
       "3  ['MacArthur grant', 'activism', 'business', 'c...   \n",
       "4  ['children', 'creativity', 'culture', 'dance',...   \n",
       "\n",
       "                                         description  \\\n",
       "0  With the same humor and humanity he exuded in ...   \n",
       "1  You've never seen data presented like this. Wi...   \n",
       "2  New York Times columnist David Pogue takes aim...   \n",
       "3  In an emotionally charged talk, MacArthur-winn...   \n",
       "4  Sir Ken Robinson makes an entertaining and pro...   \n",
       "\n",
       "                                          transcript  \n",
       "0  Thank you so much, Chris. And it's truly a gre...  \n",
       "1  About 10 years ago, I took on the task to teac...  \n",
       "2  (Music: \"The Sound of Silence,\" Simon & Garfun...  \n",
       "3  If you're here today — and I'm very happy that...  \n",
       "4  Good morning. How are you? (Audience) Good. It...  "
      ]
     },
     "metadata": {},
     "execution_count": 7
    }
   ],
   "metadata": {}
  },
  {
   "cell_type": "code",
   "execution_count": 8,
   "source": [
    "# Check if there are any missing values\r\n",
    "ted_df.isnull().sum()"
   ],
   "outputs": [
    {
     "output_type": "execute_result",
     "data": {
      "text/plain": [
       "talk_id             0\n",
       "title               0\n",
       "all_speakers        4\n",
       "occupations       522\n",
       "about_speakers    503\n",
       "topics              0\n",
       "description         0\n",
       "transcript          0\n",
       "dtype: int64"
      ]
     },
     "metadata": {},
     "execution_count": 8
    }
   ],
   "metadata": {}
  },
  {
   "cell_type": "code",
   "execution_count": 9,
   "source": [
    "# Re-Format the values for column \"topics\"\r\n",
    "ted_df['topics'] = ted_df['topics'].apply(lambda x:ast.literal_eval(x))\r\n",
    "ted_df['topics']"
   ],
   "outputs": [
    {
     "output_type": "execute_result",
     "data": {
      "text/plain": [
       "0       [alternative energy, cars, climate change, cul...\n",
       "1       [Africa, Asia, Google, demo, economics, global...\n",
       "2       [computers, entertainment, interface design, m...\n",
       "3       [MacArthur grant, activism, business, cities, ...\n",
       "4       [children, creativity, culture, dance, educati...\n",
       "                              ...                        \n",
       "4000    [activism, data, technology, mental health, so...\n",
       "4001    [TED-Ed, education, history, animation, intell...\n",
       "4002         [society, law, policy, justice system, TEDx]\n",
       "4003    [TED-Ed, education, animation, United States, ...\n",
       "4004    [animals, TED-Ed, animation, oceans, science, ...\n",
       "Name: topics, Length: 4005, dtype: object"
      ]
     },
     "metadata": {},
     "execution_count": 9
    }
   ],
   "metadata": {}
  },
  {
   "cell_type": "code",
   "execution_count": 10,
   "source": [
    "# Function to Get all the topics\r\n",
    "def getAllTopics(ted_dataframe:pd.DataFrame):\r\n",
    "     allTopics = []\r\n",
    "     #ted_id = ted_dataframe['talk_id']\r\n",
    "     topics = ted_dataframe['topics'].values\r\n",
    "\r\n",
    "     for topicList in topics:\r\n",
    "          for topic in topicList:\r\n",
    "               if topic in allTopics:\r\n",
    "                    continue\r\n",
    "               else:\r\n",
    "                    allTopics.append(topic)\r\n",
    "     return sorted(allTopics)"
   ],
   "outputs": [],
   "metadata": {}
  },
  {
   "cell_type": "code",
   "execution_count": 11,
   "source": [
    "talkId_title_dict = dict(zip(ted_df.talk_id,ted_df.title))"
   ],
   "outputs": [],
   "metadata": {}
  },
  {
   "cell_type": "code",
   "execution_count": 12,
   "source": [
    "all_topics = getAllTopics(ted_df)"
   ],
   "outputs": [],
   "metadata": {}
  },
  {
   "cell_type": "code",
   "execution_count": 13,
   "source": [
    "ted_df.head()"
   ],
   "outputs": [
    {
     "output_type": "execute_result",
     "data": {
      "text/html": [
       "<div>\n",
       "<style scoped>\n",
       "    .dataframe tbody tr th:only-of-type {\n",
       "        vertical-align: middle;\n",
       "    }\n",
       "\n",
       "    .dataframe tbody tr th {\n",
       "        vertical-align: top;\n",
       "    }\n",
       "\n",
       "    .dataframe thead th {\n",
       "        text-align: right;\n",
       "    }\n",
       "</style>\n",
       "<table border=\"1\" class=\"dataframe\">\n",
       "  <thead>\n",
       "    <tr style=\"text-align: right;\">\n",
       "      <th></th>\n",
       "      <th>talk_id</th>\n",
       "      <th>title</th>\n",
       "      <th>all_speakers</th>\n",
       "      <th>occupations</th>\n",
       "      <th>about_speakers</th>\n",
       "      <th>topics</th>\n",
       "      <th>description</th>\n",
       "      <th>transcript</th>\n",
       "    </tr>\n",
       "  </thead>\n",
       "  <tbody>\n",
       "    <tr>\n",
       "      <th>0</th>\n",
       "      <td>1</td>\n",
       "      <td>Averting the climate crisis</td>\n",
       "      <td>{0: 'Al Gore'}</td>\n",
       "      <td>{0: ['climate advocate']}</td>\n",
       "      <td>{0: 'Nobel Laureate Al Gore focused the world’...</td>\n",
       "      <td>[alternative energy, cars, climate change, cul...</td>\n",
       "      <td>With the same humor and humanity he exuded in ...</td>\n",
       "      <td>Thank you so much, Chris. And it's truly a gre...</td>\n",
       "    </tr>\n",
       "    <tr>\n",
       "      <th>1</th>\n",
       "      <td>92</td>\n",
       "      <td>The best stats you've ever seen</td>\n",
       "      <td>{0: 'Hans Rosling'}</td>\n",
       "      <td>{0: ['global health expert; data visionary']}</td>\n",
       "      <td>{0: 'In Hans Rosling’s hands, data sings. Glob...</td>\n",
       "      <td>[Africa, Asia, Google, demo, economics, global...</td>\n",
       "      <td>You've never seen data presented like this. Wi...</td>\n",
       "      <td>About 10 years ago, I took on the task to teac...</td>\n",
       "    </tr>\n",
       "    <tr>\n",
       "      <th>2</th>\n",
       "      <td>7</td>\n",
       "      <td>Simplicity sells</td>\n",
       "      <td>{0: 'David Pogue'}</td>\n",
       "      <td>{0: ['technology columnist']}</td>\n",
       "      <td>{0: 'David Pogue is the personal technology co...</td>\n",
       "      <td>[computers, entertainment, interface design, m...</td>\n",
       "      <td>New York Times columnist David Pogue takes aim...</td>\n",
       "      <td>(Music: \"The Sound of Silence,\" Simon &amp; Garfun...</td>\n",
       "    </tr>\n",
       "    <tr>\n",
       "      <th>3</th>\n",
       "      <td>53</td>\n",
       "      <td>Greening the ghetto</td>\n",
       "      <td>{0: 'Majora Carter'}</td>\n",
       "      <td>{0: ['activist for environmental justice']}</td>\n",
       "      <td>{0: 'Majora Carter redefined the field of envi...</td>\n",
       "      <td>[MacArthur grant, activism, business, cities, ...</td>\n",
       "      <td>In an emotionally charged talk, MacArthur-winn...</td>\n",
       "      <td>If you're here today — and I'm very happy that...</td>\n",
       "    </tr>\n",
       "    <tr>\n",
       "      <th>4</th>\n",
       "      <td>66</td>\n",
       "      <td>Do schools kill creativity?</td>\n",
       "      <td>{0: 'Sir Ken Robinson'}</td>\n",
       "      <td>{0: ['author', 'educator']}</td>\n",
       "      <td>{0: \"Creativity expert Sir Ken Robinson challe...</td>\n",
       "      <td>[children, creativity, culture, dance, educati...</td>\n",
       "      <td>Sir Ken Robinson makes an entertaining and pro...</td>\n",
       "      <td>Good morning. How are you? (Audience) Good. It...</td>\n",
       "    </tr>\n",
       "  </tbody>\n",
       "</table>\n",
       "</div>"
      ],
      "text/plain": [
       "   talk_id                            title             all_speakers  \\\n",
       "0        1      Averting the climate crisis           {0: 'Al Gore'}   \n",
       "1       92  The best stats you've ever seen      {0: 'Hans Rosling'}   \n",
       "2        7                 Simplicity sells       {0: 'David Pogue'}   \n",
       "3       53              Greening the ghetto     {0: 'Majora Carter'}   \n",
       "4       66      Do schools kill creativity?  {0: 'Sir Ken Robinson'}   \n",
       "\n",
       "                                     occupations  \\\n",
       "0                      {0: ['climate advocate']}   \n",
       "1  {0: ['global health expert; data visionary']}   \n",
       "2                  {0: ['technology columnist']}   \n",
       "3    {0: ['activist for environmental justice']}   \n",
       "4                    {0: ['author', 'educator']}   \n",
       "\n",
       "                                      about_speakers  \\\n",
       "0  {0: 'Nobel Laureate Al Gore focused the world’...   \n",
       "1  {0: 'In Hans Rosling’s hands, data sings. Glob...   \n",
       "2  {0: 'David Pogue is the personal technology co...   \n",
       "3  {0: 'Majora Carter redefined the field of envi...   \n",
       "4  {0: \"Creativity expert Sir Ken Robinson challe...   \n",
       "\n",
       "                                              topics  \\\n",
       "0  [alternative energy, cars, climate change, cul...   \n",
       "1  [Africa, Asia, Google, demo, economics, global...   \n",
       "2  [computers, entertainment, interface design, m...   \n",
       "3  [MacArthur grant, activism, business, cities, ...   \n",
       "4  [children, creativity, culture, dance, educati...   \n",
       "\n",
       "                                         description  \\\n",
       "0  With the same humor and humanity he exuded in ...   \n",
       "1  You've never seen data presented like this. Wi...   \n",
       "2  New York Times columnist David Pogue takes aim...   \n",
       "3  In an emotionally charged talk, MacArthur-winn...   \n",
       "4  Sir Ken Robinson makes an entertaining and pro...   \n",
       "\n",
       "                                          transcript  \n",
       "0  Thank you so much, Chris. And it's truly a gre...  \n",
       "1  About 10 years ago, I took on the task to teac...  \n",
       "2  (Music: \"The Sound of Silence,\" Simon & Garfun...  \n",
       "3  If you're here today — and I'm very happy that...  \n",
       "4  Good morning. How are you? (Audience) Good. It...  "
      ]
     },
     "metadata": {},
     "execution_count": 13
    }
   ],
   "metadata": {}
  },
  {
   "cell_type": "markdown",
   "source": [
    "## Search for Topics using Content Based Filtering and cosine similarity"
   ],
   "metadata": {}
  },
  {
   "cell_type": "code",
   "execution_count": 14,
   "source": [
    "# Encoding using Transactional Encoder\r\n",
    "topics = ted_df.topics\r\n",
    "topicEncoder = TransactionEncoder()\r\n",
    "topics_df = topicEncoder.fit_transform(topics)"
   ],
   "outputs": [],
   "metadata": {}
  },
  {
   "cell_type": "code",
   "execution_count": 15,
   "source": [
    "topics_df = pd.DataFrame.from_records(topics_df,columns=topicEncoder.columns_)"
   ],
   "outputs": [],
   "metadata": {}
  },
  {
   "cell_type": "code",
   "execution_count": 16,
   "source": [
    "topics_df = topics_df.astype('int')\r\n",
    "topics_df.insert(0, 'talk_id', ted_df['talk_id'])"
   ],
   "outputs": [],
   "metadata": {}
  },
  {
   "cell_type": "code",
   "execution_count": 17,
   "source": [
    "topics_df.set_index('talk_id',inplace=True)"
   ],
   "outputs": [],
   "metadata": {}
  },
  {
   "cell_type": "code",
   "execution_count": 18,
   "source": [
    "# Show Encoded topics for each talk ID, with each column as Topic\r\n",
    "topics_df.head()"
   ],
   "outputs": [
    {
     "output_type": "execute_result",
     "data": {
      "text/html": [
       "<div>\n",
       "<style scoped>\n",
       "    .dataframe tbody tr th:only-of-type {\n",
       "        vertical-align: middle;\n",
       "    }\n",
       "\n",
       "    .dataframe tbody tr th {\n",
       "        vertical-align: top;\n",
       "    }\n",
       "\n",
       "    .dataframe thead th {\n",
       "        text-align: right;\n",
       "    }\n",
       "</style>\n",
       "<table border=\"1\" class=\"dataframe\">\n",
       "  <thead>\n",
       "    <tr style=\"text-align: right;\">\n",
       "      <th></th>\n",
       "      <th>3D printing</th>\n",
       "      <th>AI</th>\n",
       "      <th>AIDS</th>\n",
       "      <th>Africa</th>\n",
       "      <th>Alzheimer's</th>\n",
       "      <th>Antarctica</th>\n",
       "      <th>Anthropocene</th>\n",
       "      <th>Asia</th>\n",
       "      <th>Audacious Project</th>\n",
       "      <th>Autism spectrum disorder</th>\n",
       "      <th>...</th>\n",
       "      <th>wikipedia</th>\n",
       "      <th>wind energy</th>\n",
       "      <th>women</th>\n",
       "      <th>women in business</th>\n",
       "      <th>work</th>\n",
       "      <th>work-life balance</th>\n",
       "      <th>world cultures</th>\n",
       "      <th>writing</th>\n",
       "      <th>wunderkind</th>\n",
       "      <th>youth</th>\n",
       "    </tr>\n",
       "    <tr>\n",
       "      <th>talk_id</th>\n",
       "      <th></th>\n",
       "      <th></th>\n",
       "      <th></th>\n",
       "      <th></th>\n",
       "      <th></th>\n",
       "      <th></th>\n",
       "      <th></th>\n",
       "      <th></th>\n",
       "      <th></th>\n",
       "      <th></th>\n",
       "      <th></th>\n",
       "      <th></th>\n",
       "      <th></th>\n",
       "      <th></th>\n",
       "      <th></th>\n",
       "      <th></th>\n",
       "      <th></th>\n",
       "      <th></th>\n",
       "      <th></th>\n",
       "      <th></th>\n",
       "      <th></th>\n",
       "    </tr>\n",
       "  </thead>\n",
       "  <tbody>\n",
       "    <tr>\n",
       "      <th>1</th>\n",
       "      <td>0</td>\n",
       "      <td>0</td>\n",
       "      <td>0</td>\n",
       "      <td>0</td>\n",
       "      <td>0</td>\n",
       "      <td>0</td>\n",
       "      <td>0</td>\n",
       "      <td>0</td>\n",
       "      <td>0</td>\n",
       "      <td>0</td>\n",
       "      <td>...</td>\n",
       "      <td>0</td>\n",
       "      <td>0</td>\n",
       "      <td>0</td>\n",
       "      <td>0</td>\n",
       "      <td>0</td>\n",
       "      <td>0</td>\n",
       "      <td>0</td>\n",
       "      <td>0</td>\n",
       "      <td>0</td>\n",
       "      <td>0</td>\n",
       "    </tr>\n",
       "    <tr>\n",
       "      <th>92</th>\n",
       "      <td>0</td>\n",
       "      <td>0</td>\n",
       "      <td>0</td>\n",
       "      <td>1</td>\n",
       "      <td>0</td>\n",
       "      <td>0</td>\n",
       "      <td>0</td>\n",
       "      <td>1</td>\n",
       "      <td>0</td>\n",
       "      <td>0</td>\n",
       "      <td>...</td>\n",
       "      <td>0</td>\n",
       "      <td>0</td>\n",
       "      <td>0</td>\n",
       "      <td>0</td>\n",
       "      <td>0</td>\n",
       "      <td>0</td>\n",
       "      <td>0</td>\n",
       "      <td>0</td>\n",
       "      <td>0</td>\n",
       "      <td>0</td>\n",
       "    </tr>\n",
       "    <tr>\n",
       "      <th>7</th>\n",
       "      <td>0</td>\n",
       "      <td>0</td>\n",
       "      <td>0</td>\n",
       "      <td>0</td>\n",
       "      <td>0</td>\n",
       "      <td>0</td>\n",
       "      <td>0</td>\n",
       "      <td>0</td>\n",
       "      <td>0</td>\n",
       "      <td>0</td>\n",
       "      <td>...</td>\n",
       "      <td>0</td>\n",
       "      <td>0</td>\n",
       "      <td>0</td>\n",
       "      <td>0</td>\n",
       "      <td>0</td>\n",
       "      <td>0</td>\n",
       "      <td>0</td>\n",
       "      <td>0</td>\n",
       "      <td>0</td>\n",
       "      <td>0</td>\n",
       "    </tr>\n",
       "    <tr>\n",
       "      <th>53</th>\n",
       "      <td>0</td>\n",
       "      <td>0</td>\n",
       "      <td>0</td>\n",
       "      <td>0</td>\n",
       "      <td>0</td>\n",
       "      <td>0</td>\n",
       "      <td>0</td>\n",
       "      <td>0</td>\n",
       "      <td>0</td>\n",
       "      <td>0</td>\n",
       "      <td>...</td>\n",
       "      <td>0</td>\n",
       "      <td>0</td>\n",
       "      <td>0</td>\n",
       "      <td>0</td>\n",
       "      <td>0</td>\n",
       "      <td>0</td>\n",
       "      <td>0</td>\n",
       "      <td>0</td>\n",
       "      <td>0</td>\n",
       "      <td>0</td>\n",
       "    </tr>\n",
       "    <tr>\n",
       "      <th>66</th>\n",
       "      <td>0</td>\n",
       "      <td>0</td>\n",
       "      <td>0</td>\n",
       "      <td>0</td>\n",
       "      <td>0</td>\n",
       "      <td>0</td>\n",
       "      <td>0</td>\n",
       "      <td>0</td>\n",
       "      <td>0</td>\n",
       "      <td>0</td>\n",
       "      <td>...</td>\n",
       "      <td>0</td>\n",
       "      <td>0</td>\n",
       "      <td>0</td>\n",
       "      <td>0</td>\n",
       "      <td>0</td>\n",
       "      <td>0</td>\n",
       "      <td>0</td>\n",
       "      <td>0</td>\n",
       "      <td>0</td>\n",
       "      <td>0</td>\n",
       "    </tr>\n",
       "  </tbody>\n",
       "</table>\n",
       "<p>5 rows × 457 columns</p>\n",
       "</div>"
      ],
      "text/plain": [
       "         3D printing  AI  AIDS  Africa  Alzheimer's  Antarctica  Anthropocene  \\\n",
       "talk_id                                                                         \n",
       "1                  0   0     0       0            0           0             0   \n",
       "92                 0   0     0       1            0           0             0   \n",
       "7                  0   0     0       0            0           0             0   \n",
       "53                 0   0     0       0            0           0             0   \n",
       "66                 0   0     0       0            0           0             0   \n",
       "\n",
       "         Asia  Audacious Project  Autism spectrum disorder  ...  wikipedia  \\\n",
       "talk_id                                                     ...              \n",
       "1           0                  0                         0  ...          0   \n",
       "92          1                  0                         0  ...          0   \n",
       "7           0                  0                         0  ...          0   \n",
       "53          0                  0                         0  ...          0   \n",
       "66          0                  0                         0  ...          0   \n",
       "\n",
       "         wind energy  women  women in business  work  work-life balance  \\\n",
       "talk_id                                                                   \n",
       "1                  0      0                  0     0                  0   \n",
       "92                 0      0                  0     0                  0   \n",
       "7                  0      0                  0     0                  0   \n",
       "53                 0      0                  0     0                  0   \n",
       "66                 0      0                  0     0                  0   \n",
       "\n",
       "         world cultures  writing  wunderkind  youth  \n",
       "talk_id                                              \n",
       "1                     0        0           0      0  \n",
       "92                    0        0           0      0  \n",
       "7                     0        0           0      0  \n",
       "53                    0        0           0      0  \n",
       "66                    0        0           0      0  \n",
       "\n",
       "[5 rows x 457 columns]"
      ]
     },
     "metadata": {},
     "execution_count": 18
    }
   ],
   "metadata": {}
  },
  {
   "cell_type": "code",
   "execution_count": 19,
   "source": [
    "# Random example of list of Topics as Input, which is used for searching the TED-Talk of particular interest \r\n",
    "topicTags = [['DNA','science','technology','genetics','biology','biomimicry','evolution']] "
   ],
   "outputs": [],
   "metadata": {}
  },
  {
   "cell_type": "code",
   "execution_count": 20,
   "source": [
    "# Transform the topic list into encoded array of 1 dimension\r\n",
    "tags_df = pd.DataFrame.from_records(topicEncoder.transform(topicTags).astype('int'),columns=topicEncoder.columns_)"
   ],
   "outputs": [],
   "metadata": {}
  },
  {
   "cell_type": "code",
   "execution_count": 21,
   "source": [
    "# Encoded topics with each column as Topic\r\n",
    "tags_df"
   ],
   "outputs": [
    {
     "output_type": "execute_result",
     "data": {
      "text/html": [
       "<div>\n",
       "<style scoped>\n",
       "    .dataframe tbody tr th:only-of-type {\n",
       "        vertical-align: middle;\n",
       "    }\n",
       "\n",
       "    .dataframe tbody tr th {\n",
       "        vertical-align: top;\n",
       "    }\n",
       "\n",
       "    .dataframe thead th {\n",
       "        text-align: right;\n",
       "    }\n",
       "</style>\n",
       "<table border=\"1\" class=\"dataframe\">\n",
       "  <thead>\n",
       "    <tr style=\"text-align: right;\">\n",
       "      <th></th>\n",
       "      <th>3D printing</th>\n",
       "      <th>AI</th>\n",
       "      <th>AIDS</th>\n",
       "      <th>Africa</th>\n",
       "      <th>Alzheimer's</th>\n",
       "      <th>Antarctica</th>\n",
       "      <th>Anthropocene</th>\n",
       "      <th>Asia</th>\n",
       "      <th>Audacious Project</th>\n",
       "      <th>Autism spectrum disorder</th>\n",
       "      <th>...</th>\n",
       "      <th>wikipedia</th>\n",
       "      <th>wind energy</th>\n",
       "      <th>women</th>\n",
       "      <th>women in business</th>\n",
       "      <th>work</th>\n",
       "      <th>work-life balance</th>\n",
       "      <th>world cultures</th>\n",
       "      <th>writing</th>\n",
       "      <th>wunderkind</th>\n",
       "      <th>youth</th>\n",
       "    </tr>\n",
       "  </thead>\n",
       "  <tbody>\n",
       "    <tr>\n",
       "      <th>0</th>\n",
       "      <td>0</td>\n",
       "      <td>0</td>\n",
       "      <td>0</td>\n",
       "      <td>0</td>\n",
       "      <td>0</td>\n",
       "      <td>0</td>\n",
       "      <td>0</td>\n",
       "      <td>0</td>\n",
       "      <td>0</td>\n",
       "      <td>0</td>\n",
       "      <td>...</td>\n",
       "      <td>0</td>\n",
       "      <td>0</td>\n",
       "      <td>0</td>\n",
       "      <td>0</td>\n",
       "      <td>0</td>\n",
       "      <td>0</td>\n",
       "      <td>0</td>\n",
       "      <td>0</td>\n",
       "      <td>0</td>\n",
       "      <td>0</td>\n",
       "    </tr>\n",
       "  </tbody>\n",
       "</table>\n",
       "<p>1 rows × 457 columns</p>\n",
       "</div>"
      ],
      "text/plain": [
       "   3D printing  AI  AIDS  Africa  Alzheimer's  Antarctica  Anthropocene  Asia  \\\n",
       "0            0   0     0       0            0           0             0     0   \n",
       "\n",
       "   Audacious Project  Autism spectrum disorder  ...  wikipedia  wind energy  \\\n",
       "0                  0                         0  ...          0            0   \n",
       "\n",
       "   women  women in business  work  work-life balance  world cultures  writing  \\\n",
       "0      0                  0     0                  0               0        0   \n",
       "\n",
       "   wunderkind  youth  \n",
       "0           0      0  \n",
       "\n",
       "[1 rows x 457 columns]"
      ]
     },
     "metadata": {},
     "execution_count": 21
    }
   ],
   "metadata": {}
  },
  {
   "cell_type": "code",
   "execution_count": 22,
   "source": [
    "# Size of Encoded matrix for all TED-Talks\r\n",
    "topics_df.values.shape"
   ],
   "outputs": [
    {
     "output_type": "execute_result",
     "data": {
      "text/plain": [
       "(4005, 457)"
      ]
     },
     "metadata": {},
     "execution_count": 22
    }
   ],
   "metadata": {}
  },
  {
   "cell_type": "code",
   "execution_count": 23,
   "source": [
    "# Size of Encoded matrix for searching TED-Talk with most similar topics entered earlier as input\r\n",
    "tags_df.values.shape"
   ],
   "outputs": [
    {
     "output_type": "execute_result",
     "data": {
      "text/plain": [
       "(1, 457)"
      ]
     },
     "metadata": {},
     "execution_count": 23
    }
   ],
   "metadata": {}
  },
  {
   "cell_type": "code",
   "execution_count": 24,
   "source": [
    "# Create the list of Similairty scores between two abive arrays and sort them in descending order of top 10 similarity scores\r\n",
    "topic_similarity_scores = list(enumerate(cosine_similarity(topics_df.values,tags_df.values)[:,0]))\r\n",
    "topic_similarity_scores_top10 = sorted(topic_similarity_scores,reverse=True,key=lambda x:x[1])[:10]"
   ],
   "outputs": [],
   "metadata": {}
  },
  {
   "cell_type": "code",
   "execution_count": 25,
   "source": [
    "# Get the index of each score to match with index of TED Talk in Dataframe\r\n",
    "topic_similarity_scores_top10_indices = [index for index,_ in topic_similarity_scores_top10]"
   ],
   "outputs": [],
   "metadata": {}
  },
  {
   "cell_type": "code",
   "execution_count": 26,
   "source": [
    "# Show top 10 indices with highest cosine similarity scores\r\n",
    "topic_similarity_scores_top10_indices"
   ],
   "outputs": [
    {
     "output_type": "execute_result",
     "data": {
      "text/plain": [
       "[959, 73, 418, 659, 881, 365, 353, 3258, 79, 3709]"
      ]
     },
     "metadata": {},
     "execution_count": 26
    }
   ],
   "metadata": {}
  },
  {
   "cell_type": "code",
   "execution_count": 27,
   "source": [
    "# Get the Talk IDs at the position of indices determined above\r\n",
    "topics_df_temp = topics_df.reset_index()"
   ],
   "outputs": [],
   "metadata": {}
  },
  {
   "cell_type": "code",
   "execution_count": 28,
   "source": [
    "# Show top 10 talk IDs to find out the TED-Talk \r\n",
    "top10_talkIds = topics_df_temp.iloc[topic_similarity_scores_top10_indices]['talk_id'].values\r\n",
    "top10_talkIds"
   ],
   "outputs": [
    {
     "output_type": "execute_result",
     "data": {
      "text/plain": [
       "array([ 1213,    18,   515,   863,  1133,   437,   426, 23986,     6,\n",
       "       50959], dtype=int64)"
      ]
     },
     "metadata": {},
     "execution_count": 28
    }
   ],
   "metadata": {}
  },
  {
   "cell_type": "code",
   "execution_count": 29,
   "source": [
    "# Collect the most similar TED talks in a list related to topics entered as input earlier \r\n",
    "top10_titles = []\r\n",
    "for talkId in top10_talkIds:\r\n",
    "    top10_titles.append(ted_df[ted_df['talk_id']==talkId]['title'].values[0])"
   ],
   "outputs": [],
   "metadata": {}
  },
  {
   "cell_type": "code",
   "execution_count": 30,
   "source": [
    "top10_titles"
   ],
   "outputs": [
    {
     "output_type": "execute_result",
     "data": {
      "text/plain": [
       "['DNA clues to our inner neanderthal',\n",
       " \"Biomimicry's surprising lessons from nature's engineers\",\n",
       " 'To upgrade is human',\n",
       " 'Watch me unveil \"synthetic life\"',\n",
       " 'Using nature to grow batteries',\n",
       " 'Genomics 101',\n",
       " 'Play! Experiment! Discover!',\n",
       " 'The uncertain location of electrons',\n",
       " \"Sampling the ocean's DNA\",\n",
       " 'The next software revolution: programming biological cells']"
      ]
     },
     "metadata": {},
     "execution_count": 30
    }
   ],
   "metadata": {}
  },
  {
   "cell_type": "markdown",
   "source": [
    "## Content Based Filtering based on Topic, Description and Transcript"
   ],
   "metadata": {}
  },
  {
   "cell_type": "code",
   "execution_count": 31,
   "source": [
    "# Fill the missing in correct format for column 'all_speakers'\r\n",
    "ted_df['all_speakers'].fillna(value='{0:\"\"}',inplace=True)"
   ],
   "outputs": [],
   "metadata": {}
  },
  {
   "cell_type": "code",
   "execution_count": 32,
   "source": [
    "# Reformat the column 'all_speakers' in correct format\r\n",
    "ted_df['all_speakers'] = ted_df['all_speakers'].apply(lambda x: ast.literal_eval(x))"
   ],
   "outputs": [],
   "metadata": {}
  },
  {
   "cell_type": "code",
   "execution_count": 33,
   "source": [
    "ted_df['all_speakers'] = ted_df['all_speakers'].apply(lambda x:[name.strip().replace(\" \", \"\") for name in list(x.values())])"
   ],
   "outputs": [],
   "metadata": {}
  },
  {
   "cell_type": "code",
   "execution_count": 34,
   "source": [
    "# Reformat the column 'topics' in correct format\r\n",
    "ted_df['topics'] = ted_df['topics'].apply(lambda x:[topic.replace(\" \", \"\") for topic in x])"
   ],
   "outputs": [],
   "metadata": {}
  },
  {
   "cell_type": "code",
   "execution_count": 35,
   "source": [
    "ted_df['topics'] = ted_df['topics'].apply(lambda x:\" \".join(x))\r\n",
    "ted_df['all_speakers'] = ted_df['all_speakers'].apply(lambda x:\" \".join(x))"
   ],
   "outputs": [],
   "metadata": {}
  },
  {
   "cell_type": "code",
   "execution_count": 36,
   "source": [
    "# SHow the Dataframe after correct formating\r\n",
    "ted_df.head()"
   ],
   "outputs": [
    {
     "output_type": "execute_result",
     "data": {
      "text/html": [
       "<div>\n",
       "<style scoped>\n",
       "    .dataframe tbody tr th:only-of-type {\n",
       "        vertical-align: middle;\n",
       "    }\n",
       "\n",
       "    .dataframe tbody tr th {\n",
       "        vertical-align: top;\n",
       "    }\n",
       "\n",
       "    .dataframe thead th {\n",
       "        text-align: right;\n",
       "    }\n",
       "</style>\n",
       "<table border=\"1\" class=\"dataframe\">\n",
       "  <thead>\n",
       "    <tr style=\"text-align: right;\">\n",
       "      <th></th>\n",
       "      <th>talk_id</th>\n",
       "      <th>title</th>\n",
       "      <th>all_speakers</th>\n",
       "      <th>occupations</th>\n",
       "      <th>about_speakers</th>\n",
       "      <th>topics</th>\n",
       "      <th>description</th>\n",
       "      <th>transcript</th>\n",
       "    </tr>\n",
       "  </thead>\n",
       "  <tbody>\n",
       "    <tr>\n",
       "      <th>0</th>\n",
       "      <td>1</td>\n",
       "      <td>Averting the climate crisis</td>\n",
       "      <td>AlGore</td>\n",
       "      <td>{0: ['climate advocate']}</td>\n",
       "      <td>{0: 'Nobel Laureate Al Gore focused the world’...</td>\n",
       "      <td>alternativeenergy cars climatechange culture e...</td>\n",
       "      <td>With the same humor and humanity he exuded in ...</td>\n",
       "      <td>Thank you so much, Chris. And it's truly a gre...</td>\n",
       "    </tr>\n",
       "    <tr>\n",
       "      <th>1</th>\n",
       "      <td>92</td>\n",
       "      <td>The best stats you've ever seen</td>\n",
       "      <td>HansRosling</td>\n",
       "      <td>{0: ['global health expert; data visionary']}</td>\n",
       "      <td>{0: 'In Hans Rosling’s hands, data sings. Glob...</td>\n",
       "      <td>Africa Asia Google demo economics globalissues...</td>\n",
       "      <td>You've never seen data presented like this. Wi...</td>\n",
       "      <td>About 10 years ago, I took on the task to teac...</td>\n",
       "    </tr>\n",
       "    <tr>\n",
       "      <th>2</th>\n",
       "      <td>7</td>\n",
       "      <td>Simplicity sells</td>\n",
       "      <td>DavidPogue</td>\n",
       "      <td>{0: ['technology columnist']}</td>\n",
       "      <td>{0: 'David Pogue is the personal technology co...</td>\n",
       "      <td>computers entertainment interfacedesign media ...</td>\n",
       "      <td>New York Times columnist David Pogue takes aim...</td>\n",
       "      <td>(Music: \"The Sound of Silence,\" Simon &amp; Garfun...</td>\n",
       "    </tr>\n",
       "    <tr>\n",
       "      <th>3</th>\n",
       "      <td>53</td>\n",
       "      <td>Greening the ghetto</td>\n",
       "      <td>MajoraCarter</td>\n",
       "      <td>{0: ['activist for environmental justice']}</td>\n",
       "      <td>{0: 'Majora Carter redefined the field of envi...</td>\n",
       "      <td>MacArthurgrant activism business cities enviro...</td>\n",
       "      <td>In an emotionally charged talk, MacArthur-winn...</td>\n",
       "      <td>If you're here today — and I'm very happy that...</td>\n",
       "    </tr>\n",
       "    <tr>\n",
       "      <th>4</th>\n",
       "      <td>66</td>\n",
       "      <td>Do schools kill creativity?</td>\n",
       "      <td>SirKenRobinson</td>\n",
       "      <td>{0: ['author', 'educator']}</td>\n",
       "      <td>{0: \"Creativity expert Sir Ken Robinson challe...</td>\n",
       "      <td>children creativity culture dance education pa...</td>\n",
       "      <td>Sir Ken Robinson makes an entertaining and pro...</td>\n",
       "      <td>Good morning. How are you? (Audience) Good. It...</td>\n",
       "    </tr>\n",
       "  </tbody>\n",
       "</table>\n",
       "</div>"
      ],
      "text/plain": [
       "   talk_id                            title    all_speakers  \\\n",
       "0        1      Averting the climate crisis          AlGore   \n",
       "1       92  The best stats you've ever seen     HansRosling   \n",
       "2        7                 Simplicity sells      DavidPogue   \n",
       "3       53              Greening the ghetto    MajoraCarter   \n",
       "4       66      Do schools kill creativity?  SirKenRobinson   \n",
       "\n",
       "                                     occupations  \\\n",
       "0                      {0: ['climate advocate']}   \n",
       "1  {0: ['global health expert; data visionary']}   \n",
       "2                  {0: ['technology columnist']}   \n",
       "3    {0: ['activist for environmental justice']}   \n",
       "4                    {0: ['author', 'educator']}   \n",
       "\n",
       "                                      about_speakers  \\\n",
       "0  {0: 'Nobel Laureate Al Gore focused the world’...   \n",
       "1  {0: 'In Hans Rosling’s hands, data sings. Glob...   \n",
       "2  {0: 'David Pogue is the personal technology co...   \n",
       "3  {0: 'Majora Carter redefined the field of envi...   \n",
       "4  {0: \"Creativity expert Sir Ken Robinson challe...   \n",
       "\n",
       "                                              topics  \\\n",
       "0  alternativeenergy cars climatechange culture e...   \n",
       "1  Africa Asia Google demo economics globalissues...   \n",
       "2  computers entertainment interfacedesign media ...   \n",
       "3  MacArthurgrant activism business cities enviro...   \n",
       "4  children creativity culture dance education pa...   \n",
       "\n",
       "                                         description  \\\n",
       "0  With the same humor and humanity he exuded in ...   \n",
       "1  You've never seen data presented like this. Wi...   \n",
       "2  New York Times columnist David Pogue takes aim...   \n",
       "3  In an emotionally charged talk, MacArthur-winn...   \n",
       "4  Sir Ken Robinson makes an entertaining and pro...   \n",
       "\n",
       "                                          transcript  \n",
       "0  Thank you so much, Chris. And it's truly a gre...  \n",
       "1  About 10 years ago, I took on the task to teac...  \n",
       "2  (Music: \"The Sound of Silence,\" Simon & Garfun...  \n",
       "3  If you're here today — and I'm very happy that...  \n",
       "4  Good morning. How are you? (Audience) Good. It...  "
      ]
     },
     "metadata": {},
     "execution_count": 36
    }
   ],
   "metadata": {}
  },
  {
   "cell_type": "code",
   "execution_count": 37,
   "source": [
    "# Combine columns \"all_speakers\", \"topics\", \"description\", \"transcript\" for Natural Language Processing\r\n",
    "content = ted_df['all_speakers'] + \" \" +  ted_df['topics'] + \" \" +ted_df['description'] + \" \" + ted_df['transcript']"
   ],
   "outputs": [],
   "metadata": {}
  },
  {
   "cell_type": "code",
   "execution_count": 38,
   "source": [
    "ted_df['content'] = content\r\n",
    "final_data = ted_df[['talk_id','title','content']]"
   ],
   "outputs": [],
   "metadata": {}
  },
  {
   "cell_type": "code",
   "execution_count": 39,
   "source": [
    "final_data.head()"
   ],
   "outputs": [
    {
     "output_type": "execute_result",
     "data": {
      "text/html": [
       "<div>\n",
       "<style scoped>\n",
       "    .dataframe tbody tr th:only-of-type {\n",
       "        vertical-align: middle;\n",
       "    }\n",
       "\n",
       "    .dataframe tbody tr th {\n",
       "        vertical-align: top;\n",
       "    }\n",
       "\n",
       "    .dataframe thead th {\n",
       "        text-align: right;\n",
       "    }\n",
       "</style>\n",
       "<table border=\"1\" class=\"dataframe\">\n",
       "  <thead>\n",
       "    <tr style=\"text-align: right;\">\n",
       "      <th></th>\n",
       "      <th>talk_id</th>\n",
       "      <th>title</th>\n",
       "      <th>content</th>\n",
       "    </tr>\n",
       "  </thead>\n",
       "  <tbody>\n",
       "    <tr>\n",
       "      <th>0</th>\n",
       "      <td>1</td>\n",
       "      <td>Averting the climate crisis</td>\n",
       "      <td>AlGore alternativeenergy cars climatechange cu...</td>\n",
       "    </tr>\n",
       "    <tr>\n",
       "      <th>1</th>\n",
       "      <td>92</td>\n",
       "      <td>The best stats you've ever seen</td>\n",
       "      <td>HansRosling Africa Asia Google demo economics ...</td>\n",
       "    </tr>\n",
       "    <tr>\n",
       "      <th>2</th>\n",
       "      <td>7</td>\n",
       "      <td>Simplicity sells</td>\n",
       "      <td>DavidPogue computers entertainment interfacede...</td>\n",
       "    </tr>\n",
       "    <tr>\n",
       "      <th>3</th>\n",
       "      <td>53</td>\n",
       "      <td>Greening the ghetto</td>\n",
       "      <td>MajoraCarter MacArthurgrant activism business ...</td>\n",
       "    </tr>\n",
       "    <tr>\n",
       "      <th>4</th>\n",
       "      <td>66</td>\n",
       "      <td>Do schools kill creativity?</td>\n",
       "      <td>SirKenRobinson children creativity culture dan...</td>\n",
       "    </tr>\n",
       "  </tbody>\n",
       "</table>\n",
       "</div>"
      ],
      "text/plain": [
       "   talk_id                            title  \\\n",
       "0        1      Averting the climate crisis   \n",
       "1       92  The best stats you've ever seen   \n",
       "2        7                 Simplicity sells   \n",
       "3       53              Greening the ghetto   \n",
       "4       66      Do schools kill creativity?   \n",
       "\n",
       "                                             content  \n",
       "0  AlGore alternativeenergy cars climatechange cu...  \n",
       "1  HansRosling Africa Asia Google demo economics ...  \n",
       "2  DavidPogue computers entertainment interfacede...  \n",
       "3  MajoraCarter MacArthurgrant activism business ...  \n",
       "4  SirKenRobinson children creativity culture dan...  "
      ]
     },
     "metadata": {},
     "execution_count": 39
    }
   ],
   "metadata": {}
  },
  {
   "cell_type": "markdown",
   "source": [
    "### NLP Pre-Processing"
   ],
   "metadata": {}
  },
  {
   "cell_type": "code",
   "execution_count": 40,
   "source": [
    "import warnings\r\n",
    "warnings.filterwarnings(action='ignore')"
   ],
   "outputs": [],
   "metadata": {}
  },
  {
   "cell_type": "code",
   "execution_count": 41,
   "source": [
    "# Imports for Natural Language Processing\r\n",
    "import re\r\n",
    "from nltk.corpus import stopwords\r\n",
    "import nltk\r\n",
    "from sklearn.feature_extraction.text import TfidfVectorizer\r\n",
    "from nltk.stem import WordNetLemmatizer\r\n",
    "nltk.download('stopwords')\r\n",
    "from sklearn.decomposition import TruncatedSVD\r\n",
    "from matplotlib import pyplot as plt"
   ],
   "outputs": [
    {
     "output_type": "stream",
     "name": "stderr",
     "text": [
      "[nltk_data] Downloading package stopwords to C:\\Users\\Shubham\n",
      "[nltk_data]     Singh\\AppData\\Roaming\\nltk_data...\n",
      "[nltk_data]   Package stopwords is already up-to-date!\n"
     ]
    }
   ],
   "metadata": {}
  },
  {
   "cell_type": "code",
   "execution_count": 42,
   "source": [
    "# Function for processing contracted words\r\n",
    "def decontract_text(text):\r\n",
    "    text = re.sub(r\"ain\\'t\", \"is not\", text)\r\n",
    "    text = re.sub(r\"aren\\'t\", \"are not\", text)\r\n",
    "    text = re.sub(r\"can\\'t\", \"cannot\", text)\r\n",
    "    text = re.sub(r\"'cause\", \"because\", text)\r\n",
    "    text = re.sub(r\"could\\'ve\", \"could have\", text)\r\n",
    "    text = re.sub(r\"couldn\\'t\", \"could not\", text)\r\n",
    "    text = re.sub(r\"didn\\'t\", \"did not\", text)\r\n",
    "    text = re.sub(r\"doesn\\'t\", \"does not\", text)\r\n",
    "    text = re.sub(r\"don\\'t\", \"do not\", text)\r\n",
    "    text = re.sub(r\"hadn\\'t\", \"had not\", text)\r\n",
    "    text = re.sub(r\"hasn\\'t\", \"has not\", text)\r\n",
    "    text = re.sub(r\"haven\\'t\", \"have not\", text)\r\n",
    "    text = re.sub(r\"he\\'d\", \"he would\", text)\r\n",
    "    text = re.sub(r\"he\\'ll\", \"he will\", text)\r\n",
    "    text = re.sub(r\"he\\'s\", \"he is\", text)\r\n",
    "    text = re.sub(r\"how\\'d\", \"how did\", text)\r\n",
    "    text = re.sub(r\"how\\'d\\'y\", \"how do you\", text)\r\n",
    "    text = re.sub(r\"how\\'ll\", \"how will\", text)\r\n",
    "    text = re.sub(r\"how\\'s\", \"how is\", text)\r\n",
    "    text = re.sub(r\"I\\'d\", \"I would\", text)\r\n",
    "    text = re.sub(r\"I\\'d\\'ve\", \"i would have\", text)\r\n",
    "    text = re.sub(r\"i\\'ll\", \"i will\", text)\r\n",
    "    text = re.sub(r\"i\\'ll\\'ve\", \"i will have\", text)\r\n",
    "    text = re.sub(r\"i\\'m\", \"i am\", text)\r\n",
    "    text = re.sub(r\"i\\'ve\",  \"i have\", text)\r\n",
    "    \r\n",
    "    text = re.sub(r\"I\\'ll\", \"I will\", text)\r\n",
    "    text = re.sub(r\"I\\'ll\\'ve\", \"I will have\", text)\r\n",
    "    text = re.sub(r\"I\\'m\", \"I am\", text)\r\n",
    "    text = re.sub(r\"I\\'ve\",  \"I have\", text)\r\n",
    "    \r\n",
    "    text = re.sub(r\"isn\\'t\", \"is not\", text)\r\n",
    "    text = re.sub(r\"it\\'d\", \"it would\", text)\r\n",
    "    text = re.sub(r\"it\\'d\\'ve\", \"it would have\", text)\r\n",
    "    text = re.sub(r\"it\\'ll\\'ve\", \"it will have\", text)\r\n",
    "    text = re.sub(r\"it\\'s\",\"it is\", text)\r\n",
    "    text = re.sub(r\"let\\'s\", \"let us\", text)\r\n",
    "    text = re.sub(r\"ma\\'am\", \"madam\", text)\r\n",
    "    text = re.sub(r\"mayn\\'t\", \"may not\", text)\r\n",
    "    text = re.sub(r\"might\\'ve\", \"might have\", text)\r\n",
    "    text = re.sub(r\"mightn\\'t\", \"might not\", text)\r\n",
    "    text = re.sub(r\"mightn\\'t\\'ve\", \"might not have\", text)\r\n",
    "    text = re.sub(r\"needn\\'t\", \"need not\", text)\r\n",
    "    text = re.sub(r\"needn\\'t\\'ve\", \"need not have\", text)\r\n",
    "    text = re.sub(r\"o\\'clock\", \"of the clock\", text)\r\n",
    "    text = re.sub(r\"oughtn\\'t\", \"ought not\", text)\r\n",
    "    text = re.sub(r\"oughtn\\'t\\'ve\", \"ought not have\", text)\r\n",
    "    text = re.sub(r\"shan\\'t\", \"shall not\", text)\r\n",
    "    text = re.sub(r\"sha\\'n\\'t\", \"shall not\", text)\r\n",
    "    text = re.sub(r\"shan\\'t\\'ve\", \"shall not have\", text)\r\n",
    "    text = re.sub(r\"she\\'d\", \"she would\", text)\r\n",
    "    text = re.sub(r\"she\\'d\\'ve\", \"she would have\", text)\r\n",
    "    text = re.sub(r\"she\\'ll\", \"she will\", text)\r\n",
    "    text = re.sub(r\"she\\'ll\\'ve\", \"she will have\", text)\r\n",
    "    text = re.sub(r\"she\\'s\", \"she is\", text)\r\n",
    "    text = re.sub(r\"should\\'ve\", \"should have\", text)\r\n",
    "    text = re.sub(r\"shouldn\\'t\", \"should not\", text)\r\n",
    "    text = re.sub(r\"shouldn\\'t\\'ve\", \"should not have\", text)\r\n",
    "    text = re.sub(r\"so\\'ve\", \"so have\", text)\r\n",
    "    text = re.sub(r\"so\\'s\", \"so as\", text)\r\n",
    "    text = re.sub(r\"this\\'s\", \"this is\", text)\r\n",
    "    text = re.sub(r\"that\\'d\", \"that would\", text)\r\n",
    "    text = re.sub(r\"that\\'d\\'ve\", \"that would have\", text)\r\n",
    "    text = re.sub(r\"that\\'s\", \"that is\", text)\r\n",
    "    text = re.sub(r\"that\\'d\", \"that would\", text)\r\n",
    "    text = re.sub(r\"that\\'d\\'ve\", \"that would have\", text)\r\n",
    "    text = re.sub(r\"that\\'s\", \"that is\", text)\r\n",
    "    text = re.sub(r\"there\\'d\", \"there would\", text)\r\n",
    "    text = re.sub(r\"there\\'d\\'ve\", \"there would have\", text)\r\n",
    "    text = re.sub(r\"there\\'s\", \"there is\", text)\r\n",
    "    text = re.sub(r\"here\\'s\", \"here is\", text)\r\n",
    "    text = re.sub(r\"they\\'d\", \"they would\", text)\r\n",
    "    text = re.sub(r\"they\\'d\\'ve\", \"they would have\", text)\r\n",
    "    text = re.sub(r\"they\\'ll\", \"they will\", text)\r\n",
    "    text = re.sub(r\"they\\'ll\\'ve\", \"they will have\", text)\r\n",
    "    text = re.sub(r\"they\\'re\", \"they are\", text)\r\n",
    "    text = re.sub(r\"they\\'ve\", \"they have\", text)\r\n",
    "    text = re.sub(r\"wasn\\'t\", \"was not\", text)\r\n",
    "    text = re.sub(r\"we\\'d\", \"we would\", text)\r\n",
    "    text = re.sub(r\"we\\'d\\'ve\", \"we would have\", text)\r\n",
    "    text = re.sub(r\"we\\'ll\", \"we will\", text)\r\n",
    "    text = re.sub(r\"I\\'ll\", \"I will\", text)\r\n",
    "    text = re.sub(r\"we\\'ll've\", \"we will have\", text)\r\n",
    "    text = re.sub(r\"we\\'re\", \"we are\", text)\r\n",
    "    text = re.sub(r\"we\\'ve\", \"we have\", text)\r\n",
    "    text = re.sub(r\"weren\\'t\", \"were not\", text)\r\n",
    "    text = re.sub(r\"what\\'ll\", \"what will\", text)\r\n",
    "    text = re.sub(r\"what\\'ll\\'ve\", \"what will have\", text)\r\n",
    "    text = re.sub(r\"what\\'re\", \"what are\", text)\r\n",
    "    text = re.sub(r\"what\\'s\", \"what is\", text)\r\n",
    "    text = re.sub(r\"what\\'ve\", \"what have\", text)\r\n",
    "    text = re.sub(r\"when\\'s\",  \"when is\", text)\r\n",
    "    text = re.sub(r\"when\\'ve\", \"when have\", text)\r\n",
    "    text = re.sub(r\"where\\'d\", \"where did\", text)\r\n",
    "    text = re.sub(r\"where\\'s\", \"where is\", text)\r\n",
    "    text = re.sub(r\"where\\'ve\", \"where have\", text)\r\n",
    "    text = re.sub(r\"who\\'ll\", \"who will\", text)\r\n",
    "    text = re.sub(r\"who\\'ll\\'ve\", \"who will have\", text)\r\n",
    "    text = re.sub(r\"who\\'s\", \"who is\", text)\r\n",
    "    text = re.sub(r\"who\\'ve\", \"who have\", text)\r\n",
    "    text = re.sub(r\"why\\'s\", \"why is\", text)\r\n",
    "    text = re.sub(r\"why\\'ve\", \"why have\", text)\r\n",
    "    text = re.sub(r\"will\\'ve\", \"will have\", text)\r\n",
    "    text = re.sub(r\"won\\'t\", \"will not\", text)\r\n",
    "    text = re.sub(r\"won\\'t\\'ve\", \"would not have\", text)\r\n",
    "    text = re.sub(r\"would\\'ve\", \"would have\", text)\r\n",
    "    text = re.sub(r\"wouldn\\'t\", \"would not\", text)\r\n",
    "    text = re.sub(r\"wouldn\\'t\\'ve\", \"would not have\", text)\r\n",
    "    text = re.sub(r\"y\\'all\", \"you all\", text)\r\n",
    "    text = re.sub(r\"y\\'all\\'d\", \"you all would\", text)\r\n",
    "    text = re.sub(r\"y\\'all\\'d\\'ve\", \"you all would have\", text)\r\n",
    "    text = re.sub(r\"y\\'all\\'re\", \"you all are\", text)\r\n",
    "    text = re.sub(r\"y\\'all\\'ve\", \"you all have\", text)\r\n",
    "    text = re.sub(r\"you\\'d\", \"you would\", text)\r\n",
    "    text = re.sub(r\"you\\'d\\'ve\", \"you would have\", text)\r\n",
    "    text = re.sub(r\"you\\'ll\", \"you will\", text)\r\n",
    "    text = re.sub(r\"you\\'ll\\'ve\", \"you will have\", text)\r\n",
    "    text = re.sub(r\"you\\'re\", \"you are\", text)\r\n",
    "    text = re.sub(r\"you\\'ve\", \"you have\", text)\r\n",
    "    \r\n",
    "    return text"
   ],
   "outputs": [],
   "metadata": {}
  },
  {
   "cell_type": "code",
   "execution_count": 43,
   "source": [
    "# Function for removing any integer\r\n",
    "def removeNumbers(text):\r\n",
    "    \"\"\" Removes integers \"\"\"\r\n",
    "    text = ''.join([i for i in text if not i.isdigit()])         \r\n",
    "    return text\r\n",
    "\r\n",
    "# Function to remove any text within brackets\r\n",
    "def removeTextWithinBrackets(text):\r\n",
    "    text = re.sub(\"[\\(\\[].*?[\\)\\]]\", \"\", text)\r\n",
    "    return text\r\n",
    "\r\n",
    "# Function to remove Mulitple Exclamation Mark\r\n",
    "def replaceMultiExclamationMark(text):\r\n",
    "    \"\"\" Replaces repetitions of exlamation marks \"\"\"\r\n",
    "    text = re.sub(r\"(\\!)\\1+\", '!', text)\r\n",
    "    return text\r\n",
    "\r\n",
    "# Function to remove Mulitple Question Mark\r\n",
    "def replaceMultiQuestionMark(text):\r\n",
    "    \"\"\" Replaces repetitions of question marks \"\"\"\r\n",
    "    text = re.sub(r\"(\\?)\\1+\", '?', text)\r\n",
    "    return text\r\n",
    "# Function to remove Mulitple stop Mark\r\n",
    "def replaceMultiStopMark(text):\r\n",
    "    \"\"\" Replaces repetitions of stop marks \"\"\"\r\n",
    "    text = re.sub(r\"(\\.)\\1+\", '.', text)\r\n",
    "    return text\r\n",
    "\r\n",
    "# Function to remove all special characters\r\n",
    "def remove_all_special_characters(text):\r\n",
    "    text = re.sub(r\"\\W\",\" \",text)\r\n",
    "    return text\r\n",
    "\r\n",
    "# Function to remove all extra spaces\r\n",
    "def removeExtraSpace(text):\r\n",
    "    text = re.sub(' +', ' ', text)\r\n",
    "    return text\r\n",
    "\r\n",
    "# Function to remove all stop words\r\n",
    "def remove_stop_words(text):\r\n",
    "    word_list = text.split(\" \")\r\n",
    "    filtered_words = [word for word in word_list if word not in stopwords.words('english')]\r\n",
    "\r\n",
    "    return ' '.join(filtered_words)\r\n",
    "\r\n",
    "# Function for final sanity cleaning\r\n",
    "def clean_text(text):\r\n",
    "    text = text.lower()\r\n",
    "    text = re.sub(r'br','',text)\r\n",
    "    \r\n",
    "    text = re.sub(r\"\\b[a-zA-Z]\\b\", \"\", text)\r\n",
    "    text = re.sub(r'^\\s','',text)\r\n",
    "    text = re.sub(r'\\s$','',text)\r\n",
    "    text = re.sub(r\"\\s+\",' ',text)\r\n",
    "    return text\r\n",
    "\r\n",
    "# Function to lemmatize each word\r\n",
    "def lemmatize(text):\r\n",
    "    word_list = text.split(\" \")\r\n",
    "    lemmatizer = WordNetLemmatizer()\r\n",
    "    lemmatized_words = [lemmatizer.lemmatize(word) for word in word_list]\r\n",
    "    return ' '.join(lemmatized_words)"
   ],
   "outputs": [],
   "metadata": {}
  },
  {
   "cell_type": "code",
   "execution_count": 44,
   "source": [
    "# Process the textual data using above defined functions\r\n",
    "final_data['content'] = final_data['content'].apply(lambda x:x.lower())\r\n",
    "final_data['content'] = final_data['content'].apply(decontract_text)\r\n",
    "final_data['content'] = final_data['content'].apply(removeNumbers)\r\n",
    "final_data['content'] = final_data['content'].apply(removeTextWithinBrackets)\r\n",
    "final_data['content'] = final_data['content'].apply(replaceMultiExclamationMark)\r\n",
    "final_data['content'] = final_data['content'].apply(replaceMultiQuestionMark)\r\n",
    "final_data['content'] = final_data['content'].apply(replaceMultiStopMark)\r\n",
    "final_data['content'] = final_data['content'].apply(remove_all_special_characters)\r\n",
    "final_data['content'] = final_data['content'].apply(removeExtraSpace)\r\n",
    "final_data['content'] = final_data['content'].apply(remove_stop_words)\r\n",
    "final_data['content'] = final_data['content'].apply(lemmatize)\r\n",
    "final_data['content'] = final_data['content'].apply(clean_text)\r\n"
   ],
   "outputs": [],
   "metadata": {}
  },
  {
   "cell_type": "code",
   "execution_count": 45,
   "source": [
    "# Save the pre-processed file for further use\r\n",
    "final_data.to_csv(DATA_PATH + \"TED_PreProcessedData.csv\",index=False)"
   ],
   "outputs": [],
   "metadata": {}
  },
  {
   "cell_type": "code",
   "execution_count": 46,
   "source": [
    "# Feature Extraction using TF-IDF Vectorization\r\n",
    "tfidf_vectorizer = TfidfVectorizer(ngram_range=(1,3),max_features=10000)\r\n",
    "contentFeatureVectors = tfidf_vectorizer.fit_transform(final_data['content'])"
   ],
   "outputs": [],
   "metadata": {}
  },
  {
   "cell_type": "code",
   "execution_count": 47,
   "source": [
    "# Dimesionality Reduction using Single-Valued Decomposition\r\n",
    "svd = TruncatedSVD(n_components=2000) # \r\n",
    "latent_matrix = svd.fit_transform(contentFeatureVectors)"
   ],
   "outputs": [],
   "metadata": {}
  },
  {
   "cell_type": "code",
   "execution_count": 48,
   "source": [
    "# Check for the explained variance after Dimensionality Reduction\r\n",
    "explained = svd.explained_variance_.cumsum()\r\n",
    "plt.plot(explained,'.-',ms=16,color='red')\r\n",
    "plt.xlabel(\"Singular Value Components\",fontsize=12)\r\n",
    "plt.ylabel(\"Cumulative Percentage of Variance\",fontsize=12)\r\n",
    "plt.show()\r\n",
    "# The graph shows that 80% variablity is retained after reducing 10000 columns to 2000 columns"
   ],
   "outputs": [
    {
     "output_type": "display_data",
     "data": {
      "image/png": "[encoded data removed]",
      "text/plain": [
       "<Figure size 640x480 with 1 Axes>"
      ]
     },
     "metadata": {}
    }
   ],
   "metadata": {}
  },
  {
   "cell_type": "code",
   "execution_count": 49,
   "source": [
    "\r\n",
    "# Generate cosine similarity Matrix \r\n",
    "cosine_similarity_matrix = cosine_similarity(latent_matrix,latent_matrix)"
   ],
   "outputs": [],
   "metadata": {}
  },
  {
   "cell_type": "code",
   "execution_count": 50,
   "source": [
    "# Check the shape of Cosine Similarity Matrix\r\n",
    "cosine_similarity_matrix.shape"
   ],
   "outputs": [
    {
     "output_type": "execute_result",
     "data": {
      "text/plain": [
       "(4005, 4005)"
      ]
     },
     "metadata": {},
     "execution_count": 50
    }
   ],
   "metadata": {}
  },
  {
   "cell_type": "code",
   "execution_count": 51,
   "source": [
    "# Let's Take input as Title of TED-Talk \"'Do schools kill creativity?'\" to create 10 recommendations\r\n",
    "ted_talk = 'Do schools kill creativity?'"
   ],
   "outputs": [],
   "metadata": {}
  },
  {
   "cell_type": "code",
   "execution_count": 52,
   "source": [
    "# Create a index - title dictionary\r\n",
    "index_title_dict = dict(zip(list(final_data.index),final_data['title']))\r\n",
    "# Create a title - index dictionary\r\n",
    "title_index_dict = {title:index for index,title in index_title_dict.items()}"
   ],
   "outputs": [],
   "metadata": {}
  },
  {
   "cell_type": "code",
   "execution_count": 53,
   "source": [
    "# Sort the Top 10 indices with highest similarity\r\n",
    "top_10_similar_tedTalks = sorted(list(enumerate(cosine_similarity_matrix[title_index_dict[ted_talk]])),reverse=True,key=(lambda x: x[1]))[1:11]"
   ],
   "outputs": [],
   "metadata": {}
  },
  {
   "cell_type": "code",
   "execution_count": 54,
   "source": [
    "# Get the indices for recommendations\r\n",
    "top_10_similar_tedTalks_indices = [mostSimilarTalk[0] for mostSimilarTalk in  top_10_similar_tedTalks]"
   ],
   "outputs": [],
   "metadata": {}
  },
  {
   "cell_type": "code",
   "execution_count": 55,
   "source": [
    "top_10_similar_tedTalks_indices"
   ],
   "outputs": [
    {
     "output_type": "execute_result",
     "data": {
      "text/plain": [
       "[1451, 660, 682, 1861, 176, 1997, 1446, 1370, 2900, 2558]"
      ]
     },
     "metadata": {},
     "execution_count": 55
    }
   ],
   "metadata": {}
  },
  {
   "cell_type": "code",
   "execution_count": 56,
   "source": [
    "# Get the recommended ted talks\r\n",
    "for index in top_10_similar_tedTalks_indices:\r\n",
    "    print(index_title_dict[index])"
   ],
   "outputs": [
    {
     "output_type": "stream",
     "name": "stdout",
     "text": [
      "How to escape education's death valley\n",
      "Bring on the learning revolution!\n",
      "Education innovation in the slums\n",
      "How to run a company with (almost) no rules\n",
      "Rebuilding a neighborhood with beauty, dignity, hope\n",
      "How I stopped the Taliban from shutting down my school\n",
      "Our failing schools. Enough is enough!\n",
      "Kids need structure\n",
      "Why I fight for the education of refugee girls (like me)\n",
      "The global learning crisis -- and what to do about it\n"
     ]
    }
   ],
   "metadata": {}
  },
  {
   "cell_type": "code",
   "execution_count": null,
   "source": [],
   "outputs": [],
   "metadata": {}
  }
 ],
 "metadata": {
  "orig_nbformat": 4,
  "language_info": {
   "name": "python",
   "version": "3.7.9",
   "mimetype": "text/x-python",
   "codemirror_mode": {
    "name": "ipython",
    "version": 3
   },
   "pygments_lexer": "ipython3",
   "nbconvert_exporter": "python",
   "file_extension": ".py"
  },
  "kernelspec": {
   "name": "python3",
   "display_name": "Python 3.7.9 64-bit ('base': conda)"
  },
  "interpreter": {
   "hash": "07efdcd4b820c98a756949507a4d29d7862823915ec7477944641bea022f4f62"
  }
 },
 "nbformat": 4,
 "nbformat_minor": 2
}